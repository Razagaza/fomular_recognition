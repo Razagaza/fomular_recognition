{
 "cells": [
  {
   "cell_type": "code",
   "execution_count": 37,
   "id": "9b0ace48-426b-4420-a8ea-bbb8bdada581",
   "metadata": {},
   "outputs": [],
   "source": [
    "# Import the necessary libraries\n",
    "from PIL import Image as im\n",
    "import numpy as np\n",
    "\n",
    "file= \"images/photo.jpeg\"\n",
    "def clear(file, number):\n",
    "    img = im.open(file)\n",
    "    numpydata = np.asarray(img)\n",
    "    numpydata[numpydata<128]=0\n",
    "    numpydata[numpydata>128]=255\n",
    "    im.fromarray(numpydata).save(\"images/\"+ str(number)+\".png\")\n",
    "clear(file, 0)"
   ]
  },
  {
   "cell_type": "code",
   "execution_count": 68,
   "id": "7f6126be-1750-4ab2-91d5-5d3039522034",
   "metadata": {},
   "outputs": [
    {
     "name": "stdout",
     "output_type": "stream",
     "text": [
      "(200, 272, 3)\n",
      "(200, 128, 3)\n"
     ]
    },
    {
     "data": {
      "image/png": "[encoded data removed]",
      "text/plain": [
       "<PIL.Image.Image image mode=L size=272x200 at 0x22D67B99BE0>"
      ]
     },
     "execution_count": 68,
     "metadata": {},
     "output_type": "execute_result"
    }
   ],
   "source": [
    "img= im.open(\"images/0.png\")\n",
    "numpydata= asarray(img)\n",
    "print(numpydata.shape)\n",
    "pad= 8\n",
    "new= np.zeros((numpydata.shape[0],numpydata.shape[1]//2-pad,3))\n",
    "new= numpydata[:, numpydata.shape[1]//2+pad:,:]\n",
    "print(new.shape)\n",
    "# new[:,:,2]= 128\n",
    "# new[:,:,1]= 128\n",
    "# new[:,:,0]= 128\n",
    "\n",
    "im.fromarray(numpydata[:, :, 0])"
   ]
  },
  {
   "cell_type": "markdown",
   "id": "0c5b0086-2651-4fe4-b638-b954e438009c",
   "metadata": {},
   "source": [
    "## size\n",
    "$\\matrix(200, n)$\n",
    "\n",
    "value= 0 or 1\n",
    "\n",
    "$W_1= \\matrix[n, h_1]$\n",
    "\n",
    "$W_2= \\matrix[h_1, h_2]$\n",
    "\n",
    "$W_3= \\matrix[h_2, h_3]$"
   ]
  },
  {
   "cell_type": "code",
   "execution_count": null,
   "id": "9096d29c-b200-4558-9d6f-a0eb08680191",
   "metadata": {},
   "outputs": [],
   "source": []
  }
 ],
 "metadata": {
  "kernelspec": {
   "display_name": "Python 3 (ipykernel)",
   "language": "python",
   "name": "python3"
  },
  "language_info": {
   "codemirror_mode": {
    "name": "ipython",
    "version": 3
   },
   "file_extension": ".py",
   "mimetype": "text/x-python",
   "name": "python",
   "nbconvert_exporter": "python",
   "pygments_lexer": "ipython3",
   "version": "3.9.12"
  }
 },
 "nbformat": 4,
 "nbformat_minor": 5
}
